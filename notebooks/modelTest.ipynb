{
 "cells": [
  {
   "cell_type": "code",
   "execution_count": 1,
   "metadata": {},
   "outputs": [
    {
     "ename": "ModuleNotFoundError",
     "evalue": "No module named 'dominate'",
     "output_type": "error",
     "traceback": [
      "\u001b[0;31m---------------------------------------------------------------------------\u001b[0m",
      "\u001b[0;31mModuleNotFoundError\u001b[0m                       Traceback (most recent call last)",
      "Input \u001b[0;32mIn [1]\u001b[0m, in \u001b[0;36m<cell line: 3>\u001b[0;34m()\u001b[0m\n\u001b[1;32m      1\u001b[0m \u001b[38;5;28;01mimport\u001b[39;00m \u001b[38;5;21;01mos\u001b[39;00m\n\u001b[1;32m      2\u001b[0m \u001b[38;5;28;01mimport\u001b[39;00m \u001b[38;5;21;01mtime\u001b[39;00m\n\u001b[0;32m----> 3\u001b[0m \u001b[38;5;28;01mfrom\u001b[39;00m \u001b[38;5;21;01mdeepliif\u001b[39;00m\u001b[38;5;21;01m.\u001b[39;00m\u001b[38;5;21;01moptions\u001b[39;00m\u001b[38;5;21;01m.\u001b[39;00m\u001b[38;5;21;01mtest_options\u001b[39;00m \u001b[38;5;28;01mimport\u001b[39;00m TestOptions\n\u001b[1;32m      4\u001b[0m \u001b[38;5;28;01mfrom\u001b[39;00m \u001b[38;5;21;01mdeepliif\u001b[39;00m\u001b[38;5;21;01m.\u001b[39;00m\u001b[38;5;21;01moptions\u001b[39;00m \u001b[38;5;28;01mimport\u001b[39;00m read_model_params, Options, print_options\n\u001b[1;32m      5\u001b[0m \u001b[38;5;28;01mfrom\u001b[39;00m \u001b[38;5;21;01mdeepliif\u001b[39;00m\u001b[38;5;21;01m.\u001b[39;00m\u001b[38;5;21;01mdata\u001b[39;00m \u001b[38;5;28;01mimport\u001b[39;00m create_dataset\n",
      "File \u001b[0;32m/workspace/IKEM.Hack.BE/notebooks/deepliif/options/__init__.py:5\u001b[0m, in \u001b[0;36m<module>\u001b[0;34m\u001b[0m\n\u001b[1;32m      3\u001b[0m \u001b[38;5;28;01mfrom\u001b[39;00m \u001b[38;5;21;01mpathlib\u001b[39;00m \u001b[38;5;28;01mimport\u001b[39;00m Path\n\u001b[1;32m      4\u001b[0m \u001b[38;5;28;01mimport\u001b[39;00m \u001b[38;5;21;01mos\u001b[39;00m\n\u001b[0;32m----> 5\u001b[0m \u001b[38;5;28;01mfrom\u001b[39;00m \u001b[38;5;21;01m.\u001b[39;00m\u001b[38;5;21;01m.\u001b[39;00m\u001b[38;5;21;01mutil\u001b[39;00m\u001b[38;5;21;01m.\u001b[39;00m\u001b[38;5;21;01mutil\u001b[39;00m \u001b[38;5;28;01mimport\u001b[39;00m mkdirs\n\u001b[1;32m      6\u001b[0m \u001b[38;5;28;01mimport\u001b[39;00m \u001b[38;5;21;01mre\u001b[39;00m\n\u001b[1;32m      8\u001b[0m \u001b[38;5;28;01mdef\u001b[39;00m \u001b[38;5;21mread_model_params\u001b[39m(file_addr):\n",
      "File \u001b[0;32m/workspace/IKEM.Hack.BE/notebooks/deepliif/util/__init__.py:11\u001b[0m, in \u001b[0;36m<module>\u001b[0;34m\u001b[0m\n\u001b[1;32m      7\u001b[0m \u001b[38;5;28;01mfrom\u001b[39;00m \u001b[38;5;21;01mPIL\u001b[39;00m \u001b[38;5;28;01mimport\u001b[39;00m Image, ImageOps\n\u001b[1;32m      9\u001b[0m \u001b[38;5;28;01mfrom\u001b[39;00m \u001b[38;5;21;01mskimage\u001b[39;00m\u001b[38;5;21;01m.\u001b[39;00m\u001b[38;5;21;01mfilters\u001b[39;00m \u001b[38;5;28;01mimport\u001b[39;00m threshold_multiotsu\n\u001b[0;32m---> 11\u001b[0m \u001b[38;5;28;01mfrom\u001b[39;00m \u001b[38;5;21;01m.\u001b[39;00m\u001b[38;5;21;01mvisualizer\u001b[39;00m \u001b[38;5;28;01mimport\u001b[39;00m Visualizer\n\u001b[1;32m     13\u001b[0m \u001b[38;5;66;03m# Postfixes not to consider for segmentation\u001b[39;00m\n\u001b[1;32m     14\u001b[0m \u001b[38;5;28;01mfrom\u001b[39;00m \u001b[38;5;21;01m.\u001b[39;00m\u001b[38;5;21;01m.\u001b[39;00m\u001b[38;5;21;01mpostprocessing\u001b[39;00m \u001b[38;5;28;01mimport\u001b[39;00m imadjust\n",
      "File \u001b[0;32m/workspace/IKEM.Hack.BE/notebooks/deepliif/util/visualizer.py:6\u001b[0m, in \u001b[0;36m<module>\u001b[0;34m\u001b[0m\n\u001b[1;32m      4\u001b[0m \u001b[38;5;28;01mimport\u001b[39;00m \u001b[38;5;21;01mntpath\u001b[39;00m\n\u001b[1;32m      5\u001b[0m \u001b[38;5;28;01mimport\u001b[39;00m \u001b[38;5;21;01mtime\u001b[39;00m\n\u001b[0;32m----> 6\u001b[0m \u001b[38;5;28;01mfrom\u001b[39;00m \u001b[38;5;21;01m.\u001b[39;00m \u001b[38;5;28;01mimport\u001b[39;00m util, html\n\u001b[1;32m      7\u001b[0m \u001b[38;5;28;01mfrom\u001b[39;00m \u001b[38;5;21;01msubprocess\u001b[39;00m \u001b[38;5;28;01mimport\u001b[39;00m Popen, PIPE\n\u001b[1;32m      8\u001b[0m \u001b[38;5;28;01mimport\u001b[39;00m \u001b[38;5;21;01mpickle\u001b[39;00m\n",
      "File \u001b[0;32m/workspace/IKEM.Hack.BE/notebooks/deepliif/util/html.py:1\u001b[0m, in \u001b[0;36m<module>\u001b[0;34m\u001b[0m\n\u001b[0;32m----> 1\u001b[0m \u001b[38;5;28;01mimport\u001b[39;00m \u001b[38;5;21;01mdominate\u001b[39;00m\n\u001b[1;32m      2\u001b[0m \u001b[38;5;28;01mfrom\u001b[39;00m \u001b[38;5;21;01mdominate\u001b[39;00m\u001b[38;5;21;01m.\u001b[39;00m\u001b[38;5;21;01mtags\u001b[39;00m \u001b[38;5;28;01mimport\u001b[39;00m meta, h3, table, tr, td, p, a, img, br\n\u001b[1;32m      3\u001b[0m \u001b[38;5;28;01mimport\u001b[39;00m \u001b[38;5;21;01mos\u001b[39;00m\n",
      "\u001b[0;31mModuleNotFoundError\u001b[0m: No module named 'dominate'"
     ]
    }
   ],
   "source": [
    "import os\n",
    "import time\n",
    "from deepliif.options.test_options import TestOptions\n",
    "from deepliif.options import read_model_params, Options, print_options\n",
    "from deepliif.data import create_dataset\n",
    "from deepliif.models import create_model\n",
    "from deepliif.util.visualizer import save_images\n",
    "from deepliif.util import html\n",
    "import torch\n",
    "import click"
   ]
  },
  {
   "cell_type": "code",
   "execution_count": 1,
   "metadata": {},
   "outputs": [
    {
     "ename": "NameError",
     "evalue": "name 'click' is not defined",
     "output_type": "error",
     "traceback": [
      "\u001b[0;31m---------------------------------------------------------------------------\u001b[0m",
      "\u001b[0;31mNameError\u001b[0m                                 Traceback (most recent call last)",
      "Input \u001b[0;32mIn [1]\u001b[0m, in \u001b[0;36m<cell line: 1>\u001b[0;34m()\u001b[0m\n\u001b[0;32m----> 1\u001b[0m \u001b[38;5;129m@click\u001b[39m\u001b[38;5;241m.\u001b[39mcommand()\n\u001b[1;32m      2\u001b[0m \u001b[38;5;66;03m#@click.option('--input-dir', default='./Sample_Large_Tissues/', help='reads images from here')\u001b[39;00m\n\u001b[1;32m      3\u001b[0m \u001b[38;5;66;03m#@click.option('--output-dir', help='saves results here.')\u001b[39;00m\n\u001b[1;32m      4\u001b[0m \u001b[38;5;66;03m#@click.option('--tile-size', default=None, help='tile size')\u001b[39;00m\n\u001b[1;32m      5\u001b[0m \u001b[38;5;66;03m#@click.option('--model-dir', default='./model-server/DeepLIIF_Latest_Model/', help='load models from here.')\u001b[39;00m\n\u001b[1;32m      6\u001b[0m \u001b[38;5;129m@click\u001b[39m\u001b[38;5;241m.\u001b[39moption(\u001b[38;5;124m'\u001b[39m\u001b[38;5;124m--dataroot\u001b[39m\u001b[38;5;124m'\u001b[39m, required\u001b[38;5;241m=\u001b[39m\u001b[38;5;28;01mTrue\u001b[39;00m, help\u001b[38;5;241m=\u001b[39m\u001b[38;5;124m'\u001b[39m\u001b[38;5;124mreads images from here; expected to have a subfolder\u001b[39m\u001b[38;5;124m'\u001b[39m)\n\u001b[1;32m      7\u001b[0m \u001b[38;5;129m@click\u001b[39m\u001b[38;5;241m.\u001b[39moption(\u001b[38;5;124m'\u001b[39m\u001b[38;5;124m--results_dir\u001b[39m\u001b[38;5;124m'\u001b[39m, required\u001b[38;5;241m=\u001b[39m\u001b[38;5;28;01mTrue\u001b[39;00m, help\u001b[38;5;241m=\u001b[39m\u001b[38;5;124m'\u001b[39m\u001b[38;5;124msaves results here.\u001b[39m\u001b[38;5;124m'\u001b[39m)\n\u001b[1;32m      8\u001b[0m \u001b[38;5;129m@click\u001b[39m\u001b[38;5;241m.\u001b[39moption(\u001b[38;5;124m'\u001b[39m\u001b[38;5;124m--name\u001b[39m\u001b[38;5;124m'\u001b[39m, default\u001b[38;5;241m=\u001b[39m\u001b[38;5;124m'\u001b[39m\u001b[38;5;124m.\u001b[39m\u001b[38;5;124m'\u001b[39m, help\u001b[38;5;241m=\u001b[39m\u001b[38;5;124m'\u001b[39m\u001b[38;5;124mname of the experiment, used as a subfolder under results_dir\u001b[39m\u001b[38;5;124m'\u001b[39m)\n\u001b[1;32m      9\u001b[0m \u001b[38;5;129m@click\u001b[39m\u001b[38;5;241m.\u001b[39moption(\u001b[38;5;124m'\u001b[39m\u001b[38;5;124m--checkpoints_dir\u001b[39m\u001b[38;5;124m'\u001b[39m, required\u001b[38;5;241m=\u001b[39m\u001b[38;5;28;01mTrue\u001b[39;00m, help\u001b[38;5;241m=\u001b[39m\u001b[38;5;124m'\u001b[39m\u001b[38;5;124mload models from here.\u001b[39m\u001b[38;5;124m'\u001b[39m)\n\u001b[1;32m     10\u001b[0m \u001b[38;5;129m@click\u001b[39m\u001b[38;5;241m.\u001b[39moption(\u001b[38;5;124m'\u001b[39m\u001b[38;5;124m--gpu_ids\u001b[39m\u001b[38;5;124m'\u001b[39m, \u001b[38;5;28mtype\u001b[39m\u001b[38;5;241m=\u001b[39m\u001b[38;5;28mint\u001b[39m, multiple\u001b[38;5;241m=\u001b[39m\u001b[38;5;28;01mTrue\u001b[39;00m)\n\u001b[1;32m     11\u001b[0m \u001b[38;5;129m@click\u001b[39m\u001b[38;5;241m.\u001b[39moption(\u001b[38;5;124m'\u001b[39m\u001b[38;5;124m--num_test\u001b[39m\u001b[38;5;124m'\u001b[39m, default\u001b[38;5;241m=\u001b[39m\u001b[38;5;241m10000\u001b[39m, help\u001b[38;5;241m=\u001b[39m\u001b[38;5;124m'\u001b[39m\u001b[38;5;124monly run test for num_test images\u001b[39m\u001b[38;5;124m'\u001b[39m)\n\u001b[1;32m     12\u001b[0m \u001b[38;5;28;01mdef\u001b[39;00m \u001b[38;5;21mtest\u001b[39m(dataroot, results_dir, name, checkpoints_dir, gpu_ids, num_test):\n\u001b[1;32m     13\u001b[0m     \u001b[38;5;66;03m# retrieve options used in training setting, similar to cli.py test\u001b[39;00m\n\u001b[1;32m     14\u001b[0m     model_dir \u001b[38;5;241m=\u001b[39m os\u001b[38;5;241m.\u001b[39mpath\u001b[38;5;241m.\u001b[39mjoin(checkpoints_dir, name)\n\u001b[1;32m     15\u001b[0m     opt \u001b[38;5;241m=\u001b[39m Options(path_file\u001b[38;5;241m=\u001b[39mos\u001b[38;5;241m.\u001b[39mpath\u001b[38;5;241m.\u001b[39mjoin(model_dir,\u001b[38;5;124m'\u001b[39m\u001b[38;5;124mtrain_opt.txt\u001b[39m\u001b[38;5;124m'\u001b[39m), mode\u001b[38;5;241m=\u001b[39m\u001b[38;5;124m'\u001b[39m\u001b[38;5;124mtest\u001b[39m\u001b[38;5;124m'\u001b[39m)\n",
      "\u001b[0;31mNameError\u001b[0m: name 'click' is not defined"
     ]
    }
   ],
   "source": [
    "@click.command()\n",
    "#@click.option('--input-dir', default='./Sample_Large_Tissues/', help='reads images from here')\n",
    "#@click.option('--output-dir', help='saves results here.')\n",
    "#@click.option('--tile-size', default=None, help='tile size')\n",
    "#@click.option('--model-dir', default='./model-server/DeepLIIF_Latest_Model/', help='load models from here.')\n",
    "@click.option('--dataroot', required=True, help='reads images from here; expected to have a subfolder')\n",
    "@click.option('--results_dir', required=True, help='saves results here.')\n",
    "@click.option('--name', default='.', help='name of the experiment, used as a subfolder under results_dir')\n",
    "@click.option('--checkpoints_dir', required=True, help='load models from here.')\n",
    "@click.option('--gpu_ids', type=int, multiple=True)\n",
    "@click.option('--num_test', default=10000, help='only run test for num_test images')\n",
    "def test(dataroot, results_dir, name, checkpoints_dir, gpu_ids, num_test):\n",
    "    # retrieve options used in training setting, similar to cli.py test\n",
    "    model_dir = os.path.join(checkpoints_dir, name)\n",
    "    opt = Options(path_file=os.path.join(model_dir,'train_opt.txt'), mode='test')\n",
    "    \n",
    "    # overwrite/supply unseen options using the values from the options provided in the command\n",
    "    setattr(opt,'checkpoints_dir',checkpoints_dir)\n",
    "    setattr(opt,'dataroot',dataroot)\n",
    "    setattr(opt,'name',name)\n",
    "    setattr(opt,'results_dir',results_dir)\n",
    "    setattr(opt,'num_test',num_test)\n",
    "        \n",
    "    if not hasattr(opt,'seg_gen'): # old settings for DeepLIIF models\n",
    "        opt.seg_gen = True\n",
    "    \n",
    "    number_of_gpus_all = torch.cuda.device_count()\n",
    "    if number_of_gpus_all < len(gpu_ids) and -1 not in gpu_ids:\n",
    "        number_of_gpus = 0\n",
    "        gpu_ids = [-1]\n",
    "        print(f'Specified to use GPU {opt.gpu_ids} for inference, but there are only {number_of_gpus_all} GPU devices. Switched to CPU inference.')\n",
    "\n",
    "    if len(gpu_ids) > 0 and gpu_ids[0] == -1:\n",
    "        gpu_ids = []\n",
    "    elif len(gpu_ids) == 0:\n",
    "        gpu_ids = list(range(number_of_gpus_all))\n",
    "\n",
    "    opt.gpu_ids = gpu_ids # overwrite gpu_ids; for test command, default gpu_ids at first is [] which will be translated to a list of all gpus\n",
    "    \n",
    "    # hard-code some parameters for test.py\n",
    "    opt.aspect_ratio = 1.0 # from previous default setting\n",
    "    opt.display_winsize = 512 # from previous default setting\n",
    "    opt.use_dp = True # whether to initialize model in DataParallel setting (all models to one gpu, then pytorch controls the usage of specified set of GPUs for inference)\n",
    "    opt.num_threads = 0   # test code only supports num_threads = 1\n",
    "    opt.batch_size = 1    # test code only supports batch_size = 1\n",
    "    opt.serial_batches = True  # disable data shuffling; comment this line if results on randomly chosen images are needed.\n",
    "    opt.no_flip = True    # no flip; comment this line if results on flipped images are needed.\n",
    "    opt.display_id = -1   # no visdom display; the test code saves the results to a HTML file.\n",
    "    print_options(opt)\n",
    "    dataset = create_dataset(opt)  # create a dataset given opt.dataset_mode and other options\n",
    "    model = create_model(opt)      # create a model given opt.model and other options\n",
    "    model.setup(opt)               # regular setup: load and print networks; create schedulers\n",
    "    torch.backends.cudnn.benchmark = False\n",
    "    # create a website\n",
    "    web_dir = os.path.join(opt.results_dir, opt.name, '{}_{}'.format(opt.phase, opt.epoch))  # define the website directory\n",
    "    if opt.load_iter > 0:  # load_iter is 0 by default\n",
    "        web_dir = '{:s}_iter{:d}'.format(web_dir, opt.load_iter)\n",
    "    print('creating web directory', web_dir)\n",
    "    webpage = html.HTML(web_dir, 'Experiment = %s, Phase = %s, Epoch = %s' % (opt.name, opt.phase, opt.epoch))\n",
    "    # test with eval mode. This only affects layers like batchnorm and dropout.\n",
    "    # For [pix2pix]: we use batchnorm and dropout in the original pix2pix. You can experiment it with and without eval() mode.\n",
    "    # For [CycleGAN]: It should not affect CycleGAN as CycleGAN uses instancenorm without dropout.\n",
    "    model.eval()\n",
    "    # if opt.eval:\n",
    "    #     model.eval()\n",
    "\n",
    "    _start_time = time.time()\n",
    "\n",
    "    for i, data in enumerate(dataset):\n",
    "        if i >= opt.num_test:  # only apply our model to opt.num_test images.\n",
    "            break\n",
    "        model.set_input(data)  # unpack data from data loader\n",
    "        model.test()           # run inference\n",
    "        visuals = model.get_current_visuals()  # get image results\n",
    "        img_path = model.get_image_paths()     # get image paths\n",
    "        if i % 5 == 0:  # save images to an HTML file\n",
    "            print('processing (%04d)-th image... %s' % (i, img_path))\n",
    "        save_images(webpage, visuals, img_path, aspect_ratio=opt.aspect_ratio, width=opt.display_winsize)\n",
    "\n",
    "    t_sec = round(time.time() - _start_time)\n",
    "    (t_min, t_sec) = divmod(t_sec, 60)\n",
    "    (t_hour, t_min) = divmod(t_min, 60)\n",
    "    print('Time passed: {}hour:{}min:{}sec'.format(t_hour, t_min, t_sec))\n",
    "    webpage.save()  # save the HTML\n",
    "\n",
    "\n",
    "\n",
    "if __name__ == '__main__':\n",
    "    test()"
   ]
  }
 ],
 "metadata": {
  "kernelspec": {
   "display_name": "Python 3",
   "language": "python",
   "name": "python3"
  },
  "language_info": {
   "codemirror_mode": {
    "name": "ipython",
    "version": 3
   },
   "file_extension": ".py",
   "mimetype": "text/x-python",
   "name": "python",
   "nbconvert_exporter": "python",
   "pygments_lexer": "ipython3",
   "version": "3.8.10"
  }
 },
 "nbformat": 4,
 "nbformat_minor": 2
}
